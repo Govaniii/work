{
 "cells": [
  {
   "cell_type": "code",
   "execution_count": 1,
   "id": "42a7c24f",
   "metadata": {},
   "outputs": [],
   "source": [
    "import numpy as np\n",
    "\n",
    "def strassen(A, B):\n",
    "    n = A.shape[0]\n",
    "    if n == 1:\n",
    "        return A * B\n",
    "    else:\n",
    "        # Разбиение матрицы A на 4 части\n",
    "        A11 = A[:n//2, :n//2]\n",
    "        A12 = A[:n//2, n//2:]\n",
    "        A21 = A[n//2:, :n//2]\n",
    "        A22 = A[n//2:, n//2:]\n",
    "        \n",
    "        # Разбиение матрицы B на 4 части\n",
    "        B11 = B[:n//2, :n//2]\n",
    "        B12 = B[:n//2, n//2:]\n",
    "        B21 = B[n//2:, :n//2]\n",
    "        B22 = B[n//2:, n//2:]\n",
    "        \n",
    "        # Рекурсивно вычисляем 7 подматриц\n",
    "        M1 = strassen(A11 + A22, B11 + B22)\n",
    "        M2 = strassen(A21 + A22, B11)\n",
    "        M3 = strassen(A11, B12 - B22)\n",
    "        M4 = strassen(A22, B21 - B11)\n",
    "        M5 = strassen(A11 + A12, B22)\n",
    "        M6 = strassen(A21 - A11, B11 + B12)\n",
    "        M7 = strassen(A12 - A22, B21 + B22)\n",
    "        \n",
    "        # Собираем результирующую матрицу из 7 подматриц\n",
    "        C11 = M1 + M4 - M5 + M7\n",
    "        C12 = M3 + M5\n",
    "        C21 = M2 + M4\n",
    "        C22 = M1 - M2 + M3 + M6\n",
    "        C = np.vstack((np.hstack((C11, C12)), np.hstack((C21, C22))))\n",
    "        return C\n",
    "\n"
   ]
  },
  {
   "cell_type": "code",
   "execution_count": 57,
   "id": "73b547e4",
   "metadata": {},
   "outputs": [],
   "source": [
    "# Создаем матрицы размера 4 x 4\n",
    "A = np.array([[2, 0, 1, 2], [0, 2, 1, 0], [1, 2, 0, 2], [2, 0, 1, 0]])\n",
    "B = np.array([[0, 1, 1, 0], [2, 1, 0, 2], [2, 0, 2, 2], [0, 2, 0, 1]])\n",
    "\n"
   ]
  },
  {
   "cell_type": "code",
   "execution_count": 58,
   "id": "fb180b45",
   "metadata": {},
   "outputs": [],
   "source": [
    "n = A.shape[0]"
   ]
  },
  {
   "cell_type": "code",
   "execution_count": 59,
   "id": "7b4adeda",
   "metadata": {},
   "outputs": [],
   "source": [
    "# Разбиение матрицы A на 4 части\n",
    "A11 = A[:n//2, :n//2]\n",
    "A12 = A[:n//2, n//2:]\n",
    "A21 = A[n//2:, :n//2]\n",
    "A22 = A[n//2:, n//2:]"
   ]
  },
  {
   "cell_type": "code",
   "execution_count": 60,
   "id": "36437bbc",
   "metadata": {},
   "outputs": [
    {
     "data": {
      "text/plain": [
       "array([[2, 0],\n",
       "       [0, 2]])"
      ]
     },
     "execution_count": 60,
     "metadata": {},
     "output_type": "execute_result"
    }
   ],
   "source": [
    "A11"
   ]
  },
  {
   "cell_type": "code",
   "execution_count": 61,
   "id": "de11caec",
   "metadata": {},
   "outputs": [
    {
     "data": {
      "text/plain": [
       "array([[1, 2],\n",
       "       [1, 0]])"
      ]
     },
     "execution_count": 61,
     "metadata": {},
     "output_type": "execute_result"
    }
   ],
   "source": [
    "A12"
   ]
  },
  {
   "cell_type": "code",
   "execution_count": 62,
   "id": "502a423b",
   "metadata": {},
   "outputs": [
    {
     "data": {
      "text/plain": [
       "array([[1, 2],\n",
       "       [2, 0]])"
      ]
     },
     "execution_count": 62,
     "metadata": {},
     "output_type": "execute_result"
    }
   ],
   "source": [
    "A21"
   ]
  },
  {
   "cell_type": "code",
   "execution_count": 63,
   "id": "f2557af3",
   "metadata": {},
   "outputs": [
    {
     "data": {
      "text/plain": [
       "array([[0, 2],\n",
       "       [1, 0]])"
      ]
     },
     "execution_count": 63,
     "metadata": {},
     "output_type": "execute_result"
    }
   ],
   "source": [
    "A22"
   ]
  },
  {
   "cell_type": "code",
   "execution_count": 64,
   "id": "da59375b",
   "metadata": {},
   "outputs": [],
   "source": [
    "# Разбиение матрицы B на 4 части\n",
    "B11 = B[:n//2, :n//2]\n",
    "B12 = B[:n//2, n//2:]\n",
    "B21 = B[n//2:, :n//2]\n",
    "B22 = B[n//2:, n//2:]"
   ]
  },
  {
   "cell_type": "code",
   "execution_count": 65,
   "id": "4643dd88",
   "metadata": {},
   "outputs": [
    {
     "data": {
      "text/plain": [
       "array([[0, 1],\n",
       "       [2, 1]])"
      ]
     },
     "execution_count": 65,
     "metadata": {},
     "output_type": "execute_result"
    }
   ],
   "source": [
    "B11"
   ]
  },
  {
   "cell_type": "code",
   "execution_count": 66,
   "id": "d9756fa9",
   "metadata": {},
   "outputs": [
    {
     "data": {
      "text/plain": [
       "array([[1, 0],\n",
       "       [0, 2]])"
      ]
     },
     "execution_count": 66,
     "metadata": {},
     "output_type": "execute_result"
    }
   ],
   "source": [
    "B12"
   ]
  },
  {
   "cell_type": "code",
   "execution_count": 67,
   "id": "302dab17",
   "metadata": {},
   "outputs": [
    {
     "data": {
      "text/plain": [
       "array([[2, 0],\n",
       "       [0, 2]])"
      ]
     },
     "execution_count": 67,
     "metadata": {},
     "output_type": "execute_result"
    }
   ],
   "source": [
    "B21"
   ]
  },
  {
   "cell_type": "code",
   "execution_count": 68,
   "id": "b6580eeb",
   "metadata": {},
   "outputs": [
    {
     "data": {
      "text/plain": [
       "array([[2, 2],\n",
       "       [0, 1]])"
      ]
     },
     "execution_count": 68,
     "metadata": {},
     "output_type": "execute_result"
    }
   ],
   "source": [
    "B22"
   ]
  },
  {
   "cell_type": "code",
   "execution_count": 83,
   "id": "b6cf4ecf",
   "metadata": {},
   "outputs": [
    {
     "data": {
      "text/plain": [
       "array([[2, 2],\n",
       "       [1, 2]])"
      ]
     },
     "execution_count": 83,
     "metadata": {},
     "output_type": "execute_result"
    }
   ],
   "source": [
    "A11 + A22"
   ]
  },
  {
   "cell_type": "code",
   "execution_count": 84,
   "id": "ef18d3bf",
   "metadata": {},
   "outputs": [
    {
     "data": {
      "text/plain": [
       "array([[2, 3],\n",
       "       [2, 2]])"
      ]
     },
     "execution_count": 84,
     "metadata": {},
     "output_type": "execute_result"
    }
   ],
   "source": [
    "B11 + B22"
   ]
  },
  {
   "cell_type": "code",
   "execution_count": 85,
   "id": "685c6ddf",
   "metadata": {},
   "outputs": [
    {
     "data": {
      "text/plain": [
       "array([[1, 4],\n",
       "       [3, 0]])"
      ]
     },
     "execution_count": 85,
     "metadata": {},
     "output_type": "execute_result"
    }
   ],
   "source": [
    "A21 + A22"
   ]
  },
  {
   "cell_type": "code",
   "execution_count": 87,
   "id": "c9b8947c",
   "metadata": {},
   "outputs": [
    {
     "data": {
      "text/plain": [
       "array([[-1, -2],\n",
       "       [ 0,  1]])"
      ]
     },
     "execution_count": 87,
     "metadata": {},
     "output_type": "execute_result"
    }
   ],
   "source": [
    "B12 - B22"
   ]
  },
  {
   "cell_type": "code",
   "execution_count": 88,
   "id": "7b2d8274",
   "metadata": {},
   "outputs": [
    {
     "data": {
      "text/plain": [
       "array([[ 2, -1],\n",
       "       [-2,  1]])"
      ]
     },
     "execution_count": 88,
     "metadata": {},
     "output_type": "execute_result"
    }
   ],
   "source": [
    "B21 - B11"
   ]
  },
  {
   "cell_type": "code",
   "execution_count": 89,
   "id": "9afa7758",
   "metadata": {},
   "outputs": [
    {
     "data": {
      "text/plain": [
       "array([[3, 2],\n",
       "       [1, 2]])"
      ]
     },
     "execution_count": 89,
     "metadata": {},
     "output_type": "execute_result"
    }
   ],
   "source": [
    "A11 + A12"
   ]
  },
  {
   "cell_type": "code",
   "execution_count": 90,
   "id": "18fb2f6c",
   "metadata": {},
   "outputs": [
    {
     "data": {
      "text/plain": [
       "array([[-1,  2],\n",
       "       [ 2, -2]])"
      ]
     },
     "execution_count": 90,
     "metadata": {},
     "output_type": "execute_result"
    }
   ],
   "source": [
    "A21 - A11"
   ]
  },
  {
   "cell_type": "code",
   "execution_count": 91,
   "id": "60d121ee",
   "metadata": {},
   "outputs": [
    {
     "data": {
      "text/plain": [
       "array([[1, 1],\n",
       "       [2, 3]])"
      ]
     },
     "execution_count": 91,
     "metadata": {},
     "output_type": "execute_result"
    }
   ],
   "source": [
    "B11 + B12\n"
   ]
  },
  {
   "cell_type": "code",
   "execution_count": 92,
   "id": "1b4b0469",
   "metadata": {},
   "outputs": [
    {
     "data": {
      "text/plain": [
       "array([[1, 0],\n",
       "       [0, 0]])"
      ]
     },
     "execution_count": 92,
     "metadata": {},
     "output_type": "execute_result"
    }
   ],
   "source": [
    "A12 - A22"
   ]
  },
  {
   "cell_type": "code",
   "execution_count": 93,
   "id": "55f09190",
   "metadata": {},
   "outputs": [
    {
     "data": {
      "text/plain": [
       "array([[4, 2],\n",
       "       [0, 3]])"
      ]
     },
     "execution_count": 93,
     "metadata": {},
     "output_type": "execute_result"
    }
   ],
   "source": [
    "B21 + B22"
   ]
  },
  {
   "cell_type": "code",
   "execution_count": 69,
   "id": "3fac9222",
   "metadata": {},
   "outputs": [],
   "source": [
    "# Рекурсивно вычисляем 7 подматриц\n",
    "M1 = strassen(A11 + A22, B11 + B22)\n",
    "M2 = strassen(A21 + A22, B11)\n",
    "M3 = strassen(A11, B12 - B22)\n",
    "M4 = strassen(A22, B21 - B11)\n",
    "M5 = strassen(A11 + A12, B22)\n",
    "M6 = strassen(A21 - A11, B11 + B12)\n",
    "M7 = strassen(A12 - A22, B21 + B22)"
   ]
  },
  {
   "cell_type": "code",
   "execution_count": 70,
   "id": "239931e2",
   "metadata": {},
   "outputs": [
    {
     "data": {
      "text/plain": [
       "array([[ 8, 10],\n",
       "       [ 6,  7]])"
      ]
     },
     "execution_count": 70,
     "metadata": {},
     "output_type": "execute_result"
    }
   ],
   "source": [
    "M1"
   ]
  },
  {
   "cell_type": "code",
   "execution_count": 71,
   "id": "51ecc4cb",
   "metadata": {},
   "outputs": [
    {
     "data": {
      "text/plain": [
       "array([[8, 5],\n",
       "       [0, 3]])"
      ]
     },
     "execution_count": 71,
     "metadata": {},
     "output_type": "execute_result"
    }
   ],
   "source": [
    "M2"
   ]
  },
  {
   "cell_type": "code",
   "execution_count": 72,
   "id": "f46e441e",
   "metadata": {},
   "outputs": [
    {
     "data": {
      "text/plain": [
       "array([[-2, -4],\n",
       "       [ 0,  2]])"
      ]
     },
     "execution_count": 72,
     "metadata": {},
     "output_type": "execute_result"
    }
   ],
   "source": [
    "M3"
   ]
  },
  {
   "cell_type": "code",
   "execution_count": 73,
   "id": "5c78acea",
   "metadata": {},
   "outputs": [
    {
     "data": {
      "text/plain": [
       "array([[-4,  2],\n",
       "       [ 2, -1]])"
      ]
     },
     "execution_count": 73,
     "metadata": {},
     "output_type": "execute_result"
    }
   ],
   "source": [
    "M4"
   ]
  },
  {
   "cell_type": "code",
   "execution_count": 74,
   "id": "e23adedc",
   "metadata": {},
   "outputs": [
    {
     "data": {
      "text/plain": [
       "array([[6, 8],\n",
       "       [2, 4]])"
      ]
     },
     "execution_count": 74,
     "metadata": {},
     "output_type": "execute_result"
    }
   ],
   "source": [
    "M5"
   ]
  },
  {
   "cell_type": "code",
   "execution_count": 75,
   "id": "4923b5ed",
   "metadata": {},
   "outputs": [
    {
     "data": {
      "text/plain": [
       "array([[ 3,  5],\n",
       "       [-2, -4]])"
      ]
     },
     "execution_count": 75,
     "metadata": {},
     "output_type": "execute_result"
    }
   ],
   "source": [
    "M6"
   ]
  },
  {
   "cell_type": "code",
   "execution_count": 76,
   "id": "bbb9716b",
   "metadata": {},
   "outputs": [
    {
     "data": {
      "text/plain": [
       "array([[4, 2],\n",
       "       [0, 0]])"
      ]
     },
     "execution_count": 76,
     "metadata": {},
     "output_type": "execute_result"
    }
   ],
   "source": [
    "M7"
   ]
  },
  {
   "cell_type": "code",
   "execution_count": 77,
   "id": "7d5f1f45",
   "metadata": {},
   "outputs": [],
   "source": [
    "# Собираем результирующую матрицу из 7 подматриц\n",
    "C11 = M1 + M4 - M5 + M7\n",
    "C12 = M3 + M5\n",
    "C21 = M2 + M4\n",
    "C22 = M1 - M2 + M3 + M6"
   ]
  },
  {
   "cell_type": "code",
   "execution_count": 82,
   "id": "0c2741f9",
   "metadata": {},
   "outputs": [
    {
     "name": "stdout",
     "output_type": "stream",
     "text": [
      "[[2 6 4 4]\n",
      " [6 2 2 6]\n",
      " [4 7 1 6]\n",
      " [2 2 4 2]]\n"
     ]
    }
   ],
   "source": [
    "# Умножаем матрицы методом Штрассена\n",
    "C = strassen(A, B)\n",
    "\n",
    "# Выводим результат\n",
    "print(C)"
   ]
  },
  {
   "cell_type": "code",
   "execution_count": null,
   "id": "45b991cf",
   "metadata": {},
   "outputs": [],
   "source": []
  }
 ],
 "metadata": {
  "kernelspec": {
   "display_name": "Python 3 (ipykernel)",
   "language": "python",
   "name": "python3"
  },
  "language_info": {
   "codemirror_mode": {
    "name": "ipython",
    "version": 3
   },
   "file_extension": ".py",
   "mimetype": "text/x-python",
   "name": "python",
   "nbconvert_exporter": "python",
   "pygments_lexer": "ipython3",
   "version": "3.8.5"
  }
 },
 "nbformat": 4,
 "nbformat_minor": 5
}
