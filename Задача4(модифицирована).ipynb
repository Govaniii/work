{
 "cells": [
  {
   "cell_type": "code",
   "execution_count": 221,
   "id": "42a7c24f",
   "metadata": {},
   "outputs": [],
   "source": [
    "import numpy as np\n",
    "\n",
    "def strassen(A, B):\n",
    "    n = A.shape[0]\n",
    "    if n == 1:\n",
    "        return A * B\n",
    "    else:\n",
    "        # Разбиение матрицы A на 4 части\n",
    "        A11 = A[:n//2, :n//2]\n",
    "        A12 = A[:n//2, n//2:]\n",
    "        A21 = A[n//2:, :n//2]\n",
    "        A22 = A[n//2:, n//2:]\n",
    "        \n",
    "        # Разбиение матрицы B на 4 части\n",
    "        B11 = B[:n//2, :n//2]\n",
    "        B12 = B[:n//2, n//2:]\n",
    "        B21 = B[n//2:, :n//2]\n",
    "        B22 = B[n//2:, n//2:]\n",
    "        \n",
    "        # Рекурсивно вычисляем 7 подматриц\n",
    "        M1 = strassen(A11 + A22, B11 + B22)\n",
    "        M2 = strassen(A21 + A22, B11)\n",
    "        M3 = strassen(A11, B12 - B22)\n",
    "        M4 = strassen(A22, B21 - B11)\n",
    "        M5 = strassen(A11 + A12, B22)\n",
    "        M6 = strassen(A21 - A11, B11 + B12)\n",
    "        M7 = strassen(A12 - A22, B21 + B22)\n",
    "        \n",
    "        # Собираем результирующую матрицу из 7 подматриц\n",
    "        C11 = M1 + M4 - M5 + M7\n",
    "        C12 = M3 + M5\n",
    "        C21 = M2 + M4\n",
    "        C22 = M1 - M2 + M3 + M6\n",
    "        C = np.vstack((np.hstack((C11, C12)), np.hstack((C21, C22))))\n",
    "        return C\n",
    "\n"
   ]
  },
  {
   "cell_type": "code",
   "execution_count": 222,
   "id": "73b547e4",
   "metadata": {},
   "outputs": [],
   "source": [
    "# Создаем матрицы размера 4 x 4\n",
    "#A = np.array([[2, 0, 1, 2], [0, 2, 1, 0], [1, 2, 0, 2], [2, 0, 1, 0]])\n",
    "#B = np.array([[0, 1, 1, 0], [2, 1, 0, 2], [2, 0, 2, 2], [0, 2, 0, 1]])\n",
    "\n",
    "A = np.array([[-2, 1, 0, 3], [1, 0, 4, -1], [2, 1 ,0 ,3], [3, -2, 1, 0]])\n",
    "B = np.array([[0, 2, 3 , -1], [2, 1, 0 , 4], [3, 0, -2, 1], [1, -2, 1, 0]])\n"
   ]
  },
  {
   "cell_type": "code",
   "execution_count": 223,
   "id": "fb180b45",
   "metadata": {},
   "outputs": [],
   "source": [
    "n = A.shape[0]"
   ]
  },
  {
   "cell_type": "code",
   "execution_count": 224,
   "id": "7b4adeda",
   "metadata": {},
   "outputs": [],
   "source": [
    "# Разбиение матрицы A на 4 части\n",
    "A11 = A[:n//2, :n//2]\n",
    "A12 = A[:n//2, n//2:]\n",
    "A21 = A[n//2:, :n//2]\n",
    "A22 = A[n//2:, n//2:]"
   ]
  },
  {
   "cell_type": "code",
   "execution_count": 225,
   "id": "36437bbc",
   "metadata": {},
   "outputs": [
    {
     "data": {
      "text/plain": [
       "array([[-2,  1],\n",
       "       [ 1,  0]])"
      ]
     },
     "execution_count": 225,
     "metadata": {},
     "output_type": "execute_result"
    }
   ],
   "source": [
    "A11"
   ]
  },
  {
   "cell_type": "code",
   "execution_count": 226,
   "id": "de11caec",
   "metadata": {},
   "outputs": [
    {
     "data": {
      "text/plain": [
       "array([[ 0,  3],\n",
       "       [ 4, -1]])"
      ]
     },
     "execution_count": 226,
     "metadata": {},
     "output_type": "execute_result"
    }
   ],
   "source": [
    "A12"
   ]
  },
  {
   "cell_type": "code",
   "execution_count": 227,
   "id": "502a423b",
   "metadata": {},
   "outputs": [
    {
     "data": {
      "text/plain": [
       "array([[ 2,  1],\n",
       "       [ 3, -2]])"
      ]
     },
     "execution_count": 227,
     "metadata": {},
     "output_type": "execute_result"
    }
   ],
   "source": [
    "A21"
   ]
  },
  {
   "cell_type": "code",
   "execution_count": 228,
   "id": "f2557af3",
   "metadata": {},
   "outputs": [
    {
     "data": {
      "text/plain": [
       "array([[0, 3],\n",
       "       [1, 0]])"
      ]
     },
     "execution_count": 228,
     "metadata": {},
     "output_type": "execute_result"
    }
   ],
   "source": [
    "A22"
   ]
  },
  {
   "cell_type": "code",
   "execution_count": 229,
   "id": "da59375b",
   "metadata": {},
   "outputs": [],
   "source": [
    "# Разбиение матрицы B на 4 части\n",
    "B11 = B[:n//2, :n//2]\n",
    "B12 = B[:n//2, n//2:]\n",
    "B21 = B[n//2:, :n//2]\n",
    "B22 = B[n//2:, n//2:]"
   ]
  },
  {
   "cell_type": "code",
   "execution_count": 230,
   "id": "4643dd88",
   "metadata": {},
   "outputs": [
    {
     "data": {
      "text/plain": [
       "array([[0, 2],\n",
       "       [2, 1]])"
      ]
     },
     "execution_count": 230,
     "metadata": {},
     "output_type": "execute_result"
    }
   ],
   "source": [
    "B11"
   ]
  },
  {
   "cell_type": "code",
   "execution_count": 231,
   "id": "d9756fa9",
   "metadata": {},
   "outputs": [
    {
     "data": {
      "text/plain": [
       "array([[ 3, -1],\n",
       "       [ 0,  4]])"
      ]
     },
     "execution_count": 231,
     "metadata": {},
     "output_type": "execute_result"
    }
   ],
   "source": [
    "B12"
   ]
  },
  {
   "cell_type": "code",
   "execution_count": 232,
   "id": "302dab17",
   "metadata": {},
   "outputs": [
    {
     "data": {
      "text/plain": [
       "array([[ 3,  0],\n",
       "       [ 1, -2]])"
      ]
     },
     "execution_count": 232,
     "metadata": {},
     "output_type": "execute_result"
    }
   ],
   "source": [
    "B21"
   ]
  },
  {
   "cell_type": "code",
   "execution_count": 233,
   "id": "b6580eeb",
   "metadata": {},
   "outputs": [
    {
     "data": {
      "text/plain": [
       "array([[-2,  1],\n",
       "       [ 1,  0]])"
      ]
     },
     "execution_count": 233,
     "metadata": {},
     "output_type": "execute_result"
    }
   ],
   "source": [
    "B22"
   ]
  },
  {
   "cell_type": "markdown",
   "id": "6ffc78ea",
   "metadata": {},
   "source": [
    "#### Надо выписывать итоговые матрицы которые начинают перечисляться здесь"
   ]
  },
  {
   "cell_type": "markdown",
   "id": "6237a9a3",
   "metadata": {},
   "source": [
    "# для D0:"
   ]
  },
  {
   "cell_type": "code",
   "execution_count": 234,
   "id": "b6cf4ecf",
   "metadata": {},
   "outputs": [
    {
     "data": {
      "text/plain": [
       "array([[-2,  4],\n",
       "       [ 2,  0]])"
      ]
     },
     "execution_count": 234,
     "metadata": {},
     "output_type": "execute_result"
    }
   ],
   "source": [
    "test1 = A11 + A22\n",
    "test1"
   ]
  },
  {
   "cell_type": "code",
   "execution_count": 235,
   "id": "ef18d3bf",
   "metadata": {},
   "outputs": [
    {
     "data": {
      "text/plain": [
       "array([[-2,  3],\n",
       "       [ 3,  1]])"
      ]
     },
     "execution_count": 235,
     "metadata": {},
     "output_type": "execute_result"
    }
   ],
   "source": [
    "test2 = B11 + B22\n",
    "test2"
   ]
  },
  {
   "cell_type": "code",
   "execution_count": 236,
   "id": "98cf3405",
   "metadata": {},
   "outputs": [
    {
     "name": "stdout",
     "output_type": "stream",
     "text": [
      "-2*-2+4*3 _ -2*3+4*1 \n",
      " 2*-2+0*3 _ 2*3+0*1\n"
     ]
    }
   ],
   "source": [
    "print(f'{test1[0,0]}*{test2[0,0]}+{test1[0,1]}*{test2[1,0]} _ {test1[0,0]}*{test2[0,1]}+{test1[0,1]}*{test2[1,1]} \\n {test1[1,0]}*{test2[0,0]}+{test1[1,1]}*{test2[1,0]} _ {test1[1,0]}*{test2[0,1]}+{test1[1,1]}*{test2[1,1]}')"
   ]
  },
  {
   "cell_type": "code",
   "execution_count": 237,
   "id": "ba769179",
   "metadata": {},
   "outputs": [
    {
     "data": {
      "text/plain": [
       "array([[16, -2],\n",
       "       [-4,  6]])"
      ]
     },
     "execution_count": 237,
     "metadata": {},
     "output_type": "execute_result"
    }
   ],
   "source": [
    "D0 = strassen(A11 + A22, B11 + B22)\n",
    "D0"
   ]
  },
  {
   "cell_type": "markdown",
   "id": "3bb4e4a5",
   "metadata": {},
   "source": [
    "# d1\n"
   ]
  },
  {
   "cell_type": "code",
   "execution_count": 238,
   "id": "1b4b0469",
   "metadata": {
    "scrolled": true
   },
   "outputs": [
    {
     "data": {
      "text/plain": [
       "array([[ 0,  0],\n",
       "       [ 3, -1]])"
      ]
     },
     "execution_count": 238,
     "metadata": {},
     "output_type": "execute_result"
    }
   ],
   "source": [
    "test1 = A12 - A22\n",
    "test1"
   ]
  },
  {
   "cell_type": "code",
   "execution_count": 239,
   "id": "55f09190",
   "metadata": {},
   "outputs": [
    {
     "data": {
      "text/plain": [
       "array([[ 1,  1],\n",
       "       [ 2, -2]])"
      ]
     },
     "execution_count": 239,
     "metadata": {},
     "output_type": "execute_result"
    }
   ],
   "source": [
    "test2 = B21 + B22\n",
    "test2"
   ]
  },
  {
   "cell_type": "code",
   "execution_count": 240,
   "id": "0b1f1ec7",
   "metadata": {},
   "outputs": [
    {
     "data": {
      "text/plain": [
       "array([[0, 0],\n",
       "       [1, 5]])"
      ]
     },
     "execution_count": 240,
     "metadata": {},
     "output_type": "execute_result"
    }
   ],
   "source": [
    "D1 = strassen(A12 - A22, B21 + B22)\n",
    "D1"
   ]
  },
  {
   "cell_type": "code",
   "execution_count": 241,
   "id": "de2a9d69",
   "metadata": {},
   "outputs": [
    {
     "name": "stdout",
     "output_type": "stream",
     "text": [
      "0*1+0*2 _ 0*1+0*-2 \n",
      " 3*1+-1*2 _ 3*1+-1*-2\n"
     ]
    }
   ],
   "source": [
    "print(f'{test1[0,0]}*{test2[0,0]}+{test1[0,1]}*{test2[1,0]} _ {test1[0,0]}*{test2[0,1]}+{test1[0,1]}*{test2[1,1]} \\n {test1[1,0]}*{test2[0,0]}+{test1[1,1]}*{test2[1,0]} _ {test1[1,0]}*{test2[0,1]}+{test1[1,1]}*{test2[1,1]}')"
   ]
  },
  {
   "cell_type": "markdown",
   "id": "a721d0cc",
   "metadata": {},
   "source": [
    "# d2"
   ]
  },
  {
   "cell_type": "code",
   "execution_count": 242,
   "id": "18fb2f6c",
   "metadata": {},
   "outputs": [
    {
     "data": {
      "text/plain": [
       "array([[ 4,  0],\n",
       "       [ 2, -2]])"
      ]
     },
     "execution_count": 242,
     "metadata": {},
     "output_type": "execute_result"
    }
   ],
   "source": [
    "test1 = A21 - A11\n",
    "test1"
   ]
  },
  {
   "cell_type": "code",
   "execution_count": 243,
   "id": "60d121ee",
   "metadata": {},
   "outputs": [
    {
     "data": {
      "text/plain": [
       "array([[3, 1],\n",
       "       [2, 5]])"
      ]
     },
     "execution_count": 243,
     "metadata": {},
     "output_type": "execute_result"
    }
   ],
   "source": [
    "test2 = B11 + B12\n",
    "test2"
   ]
  },
  {
   "cell_type": "code",
   "execution_count": 244,
   "id": "0cece3d6",
   "metadata": {},
   "outputs": [
    {
     "data": {
      "text/plain": [
       "array([[12,  4],\n",
       "       [ 2, -8]])"
      ]
     },
     "execution_count": 244,
     "metadata": {},
     "output_type": "execute_result"
    }
   ],
   "source": [
    "D2 = strassen(A21 - A11, B11 + B12)\n",
    "D2"
   ]
  },
  {
   "cell_type": "code",
   "execution_count": 245,
   "id": "c1523360",
   "metadata": {},
   "outputs": [
    {
     "name": "stdout",
     "output_type": "stream",
     "text": [
      "4*3+0*2 _ 4*1+0*5 \n",
      " 2*3+-2*2 _ 2*1+-2*5\n"
     ]
    }
   ],
   "source": [
    "print(f'{test1[0,0]}*{test2[0,0]}+{test1[0,1]}*{test2[1,0]} _ {test1[0,0]}*{test2[0,1]}+{test1[0,1]}*{test2[1,1]} \\n {test1[1,0]}*{test2[0,0]}+{test1[1,1]}*{test2[1,0]} _ {test1[1,0]}*{test2[0,1]}+{test1[1,1]}*{test2[1,1]}')"
   ]
  },
  {
   "cell_type": "markdown",
   "id": "6063e9aa",
   "metadata": {},
   "source": [
    "# d3"
   ]
  },
  {
   "cell_type": "code",
   "execution_count": 246,
   "id": "9afa7758",
   "metadata": {
    "scrolled": true
   },
   "outputs": [
    {
     "data": {
      "text/plain": [
       "array([[-2,  4],\n",
       "       [ 5, -1]])"
      ]
     },
     "execution_count": 246,
     "metadata": {},
     "output_type": "execute_result"
    }
   ],
   "source": [
    "test1 = A11 + A12\n",
    "test1"
   ]
  },
  {
   "cell_type": "code",
   "execution_count": 247,
   "id": "3cce32ca",
   "metadata": {},
   "outputs": [
    {
     "data": {
      "text/plain": [
       "array([[-2,  1],\n",
       "       [ 1,  0]])"
      ]
     },
     "execution_count": 247,
     "metadata": {},
     "output_type": "execute_result"
    }
   ],
   "source": [
    "test2 = B22\n",
    "test2"
   ]
  },
  {
   "cell_type": "code",
   "execution_count": 248,
   "id": "b250db83",
   "metadata": {},
   "outputs": [
    {
     "data": {
      "text/plain": [
       "array([[  8,  -2],\n",
       "       [-11,   5]])"
      ]
     },
     "execution_count": 248,
     "metadata": {},
     "output_type": "execute_result"
    }
   ],
   "source": [
    "D3 = strassen(A11 + A12, B22)\n",
    "D3"
   ]
  },
  {
   "cell_type": "code",
   "execution_count": 249,
   "id": "90833e23",
   "metadata": {},
   "outputs": [
    {
     "name": "stdout",
     "output_type": "stream",
     "text": [
      "-2*-2+4*1 _ -2*1+4*0 \n",
      " 5*-2+-1*1 _ 5*1+-1*0\n"
     ]
    }
   ],
   "source": [
    "print(f'{test1[0,0]}*{test2[0,0]}+{test1[0,1]}*{test2[1,0]} _ {test1[0,0]}*{test2[0,1]}+{test1[0,1]}*{test2[1,1]} \\n {test1[1,0]}*{test2[0,0]}+{test1[1,1]}*{test2[1,0]} _ {test1[1,0]}*{test2[0,1]}+{test1[1,1]}*{test2[1,1]}')"
   ]
  },
  {
   "cell_type": "markdown",
   "id": "cef1d887",
   "metadata": {},
   "source": [
    "# d4"
   ]
  },
  {
   "cell_type": "code",
   "execution_count": 250,
   "id": "2b9bdb95",
   "metadata": {},
   "outputs": [
    {
     "data": {
      "text/plain": [
       "array([[-2,  1],\n",
       "       [ 1,  0]])"
      ]
     },
     "execution_count": 250,
     "metadata": {},
     "output_type": "execute_result"
    }
   ],
   "source": [
    "test1 = A11\n",
    "test1"
   ]
  },
  {
   "cell_type": "code",
   "execution_count": 251,
   "id": "c9b8947c",
   "metadata": {
    "scrolled": true
   },
   "outputs": [
    {
     "data": {
      "text/plain": [
       "array([[ 5, -2],\n",
       "       [-1,  4]])"
      ]
     },
     "execution_count": 251,
     "metadata": {},
     "output_type": "execute_result"
    }
   ],
   "source": [
    "test2 = B12 - B22\n",
    "test2"
   ]
  },
  {
   "cell_type": "code",
   "execution_count": 252,
   "id": "aed34b5d",
   "metadata": {},
   "outputs": [
    {
     "data": {
      "text/plain": [
       "array([[-11,   8],\n",
       "       [  5,  -2]])"
      ]
     },
     "execution_count": 252,
     "metadata": {},
     "output_type": "execute_result"
    }
   ],
   "source": [
    "D4 = strassen(A11, B12 - B22)\n",
    "D4"
   ]
  },
  {
   "cell_type": "code",
   "execution_count": 253,
   "id": "5f68b5d1",
   "metadata": {},
   "outputs": [
    {
     "name": "stdout",
     "output_type": "stream",
     "text": [
      "-2*5+1*-1 _ -2*-2+1*4 \n",
      " 1*5+0*-1 _ 1*-2+0*4\n"
     ]
    }
   ],
   "source": [
    "print(f'{test1[0,0]}*{test2[0,0]}+{test1[0,1]}*{test2[1,0]} _ {test1[0,0]}*{test2[0,1]}+{test1[0,1]}*{test2[1,1]} \\n {test1[1,0]}*{test2[0,0]}+{test1[1,1]}*{test2[1,0]} _ {test1[1,0]}*{test2[0,1]}+{test1[1,1]}*{test2[1,1]}')"
   ]
  },
  {
   "cell_type": "markdown",
   "id": "bb4a2c9f",
   "metadata": {},
   "source": [
    "# d5 "
   ]
  },
  {
   "cell_type": "code",
   "execution_count": 254,
   "id": "37d14cf8",
   "metadata": {},
   "outputs": [
    {
     "data": {
      "text/plain": [
       "array([[0, 3],\n",
       "       [1, 0]])"
      ]
     },
     "execution_count": 254,
     "metadata": {},
     "output_type": "execute_result"
    }
   ],
   "source": [
    "test1 = A22\n",
    "test1"
   ]
  },
  {
   "cell_type": "code",
   "execution_count": 255,
   "id": "7b2d8274",
   "metadata": {},
   "outputs": [
    {
     "data": {
      "text/plain": [
       "array([[ 3, -2],\n",
       "       [-1, -3]])"
      ]
     },
     "execution_count": 255,
     "metadata": {},
     "output_type": "execute_result"
    }
   ],
   "source": [
    "test2 = B21 - B11\n",
    "test2"
   ]
  },
  {
   "cell_type": "code",
   "execution_count": 256,
   "id": "21a54d6c",
   "metadata": {},
   "outputs": [
    {
     "data": {
      "text/plain": [
       "array([[-3, -9],\n",
       "       [ 3, -2]])"
      ]
     },
     "execution_count": 256,
     "metadata": {},
     "output_type": "execute_result"
    }
   ],
   "source": [
    "D5 = strassen(A22, B21 - B11)\n",
    "D5"
   ]
  },
  {
   "cell_type": "code",
   "execution_count": 257,
   "id": "621fe3ce",
   "metadata": {},
   "outputs": [
    {
     "name": "stdout",
     "output_type": "stream",
     "text": [
      "0*3+3*-1 _ 0*-2+3*-3 \n",
      " 1*3+0*-1 _ 1*-2+0*-3\n"
     ]
    }
   ],
   "source": [
    "print(f'{test1[0,0]}*{test2[0,0]}+{test1[0,1]}*{test2[1,0]} _ {test1[0,0]}*{test2[0,1]}+{test1[0,1]}*{test2[1,1]} \\n {test1[1,0]}*{test2[0,0]}+{test1[1,1]}*{test2[1,0]} _ {test1[1,0]}*{test2[0,1]}+{test1[1,1]}*{test2[1,1]}')"
   ]
  },
  {
   "cell_type": "markdown",
   "id": "15a63fe9",
   "metadata": {},
   "source": [
    "# d6"
   ]
  },
  {
   "cell_type": "code",
   "execution_count": 258,
   "id": "685c6ddf",
   "metadata": {},
   "outputs": [
    {
     "data": {
      "text/plain": [
       "array([[ 2,  4],\n",
       "       [ 4, -2]])"
      ]
     },
     "execution_count": 258,
     "metadata": {},
     "output_type": "execute_result"
    }
   ],
   "source": [
    "test1 = A21 + A22\n",
    "test1"
   ]
  },
  {
   "cell_type": "code",
   "execution_count": 259,
   "id": "5844777a",
   "metadata": {},
   "outputs": [
    {
     "data": {
      "text/plain": [
       "array([[0, 2],\n",
       "       [2, 1]])"
      ]
     },
     "execution_count": 259,
     "metadata": {},
     "output_type": "execute_result"
    }
   ],
   "source": [
    "test2 = B11\n",
    "test2"
   ]
  },
  {
   "cell_type": "code",
   "execution_count": 260,
   "id": "155cb1bb",
   "metadata": {},
   "outputs": [
    {
     "data": {
      "text/plain": [
       "array([[ 8,  8],\n",
       "       [-4,  6]])"
      ]
     },
     "execution_count": 260,
     "metadata": {},
     "output_type": "execute_result"
    }
   ],
   "source": [
    "D6 = strassen(A21 + A22, B11)\n",
    "D6"
   ]
  },
  {
   "cell_type": "code",
   "execution_count": 261,
   "id": "9987e0b9",
   "metadata": {},
   "outputs": [
    {
     "name": "stdout",
     "output_type": "stream",
     "text": [
      "2*0+4*2 _ 2*2+4*1 \n",
      " 4*0+-2*2 _ 4*2+-2*1\n"
     ]
    }
   ],
   "source": [
    "print(f'{test1[0,0]}*{test2[0,0]}+{test1[0,1]}*{test2[1,0]} _ {test1[0,0]}*{test2[0,1]}+{test1[0,1]}*{test2[1,1]} \\n {test1[1,0]}*{test2[0,0]}+{test1[1,1]}*{test2[1,0]} _ {test1[1,0]}*{test2[0,1]}+{test1[1,1]}*{test2[1,1]}')"
   ]
  },
  {
   "cell_type": "code",
   "execution_count": 262,
   "id": "8de1026c",
   "metadata": {},
   "outputs": [
    {
     "data": {
      "text/plain": [
       "array([[  5,  -9,  -3,   6],\n",
       "       [ 11,   4,  -6,   3],\n",
       "       [  5,  -1,   9,   2],\n",
       "       [ -1,   4,   7, -10]])"
      ]
     },
     "execution_count": 262,
     "metadata": {},
     "output_type": "execute_result"
    }
   ],
   "source": [
    "# Собираем результирующую матрицу из 7 подматриц\n",
    "C11 = D0 + D1 - D3 + D5\n",
    "C21 = D5 + D6\n",
    "C12 = D3 + D4\n",
    "C22 = D0 + D2 + D4 - D6\n",
    "Citog = np.vstack((np.hstack((C11, C12)), np.hstack((C21, C22))))\n",
    "Citog"
   ]
  },
  {
   "cell_type": "markdown",
   "id": "180c573a",
   "metadata": {},
   "source": [
    "   "
   ]
  },
  {
   "cell_type": "code",
   "execution_count": null,
   "id": "392d5eb7",
   "metadata": {},
   "outputs": [],
   "source": []
  },
  {
   "cell_type": "code",
   "execution_count": null,
   "id": "759622ed",
   "metadata": {},
   "outputs": [],
   "source": []
  }
 ],
 "metadata": {
  "kernelspec": {
   "display_name": "Python 3 (ipykernel)",
   "language": "python",
   "name": "python3"
  },
  "language_info": {
   "codemirror_mode": {
    "name": "ipython",
    "version": 3
   },
   "file_extension": ".py",
   "mimetype": "text/x-python",
   "name": "python",
   "nbconvert_exporter": "python",
   "pygments_lexer": "ipython3",
   "version": "3.10.5"
  }
 },
 "nbformat": 4,
 "nbformat_minor": 5
}
